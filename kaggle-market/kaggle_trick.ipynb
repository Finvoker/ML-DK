{
 "cells": [
  {
   "cell_type": "code",
   "execution_count": 1,
   "metadata": {
    "collapsed": true
   },
   "outputs": [],
   "source": [
    "import pandas as pd\n",
    "import numpy as np\n",
    "\n",
    "df_train = pd.read_csv('data/train.csv',sep=';')\n",
    "df_test = pd.read_csv('data/test.csv',sep=';')"
   ]
  },
  {
   "cell_type": "code",
   "execution_count": 2,
   "metadata": {},
   "outputs": [
    {
     "name": "stdout",
     "output_type": "stream",
     "text": [
      "<class 'pandas.core.frame.DataFrame'>\n",
      "RangeIndex: 2999 entries, 0 to 2998\n",
      "Data columns (total 21 columns):\n",
      "age               2999 non-null int64\n",
      "job               2999 non-null object\n",
      "marital           2999 non-null object\n",
      "education         2999 non-null object\n",
      "default           2999 non-null object\n",
      "housing           2999 non-null object\n",
      "loan              2999 non-null object\n",
      "contact           2999 non-null object\n",
      "month             2999 non-null object\n",
      "day_of_week       2999 non-null object\n",
      "duration          2999 non-null int64\n",
      "campaign          2999 non-null int64\n",
      "pdays             2999 non-null int64\n",
      "previous          2999 non-null int64\n",
      "poutcome          2999 non-null object\n",
      "emp.var.rate      2999 non-null float64\n",
      "cons.price.idx    2999 non-null float64\n",
      "cons.conf.idx     2999 non-null float64\n",
      "euribor3m         2999 non-null float64\n",
      "nr.employed       2999 non-null float64\n",
      "y                 2999 non-null object\n",
      "dtypes: float64(5), int64(5), object(11)\n",
      "memory usage: 492.1+ KB\n"
     ]
    }
   ],
   "source": [
    "df_train.info()"
   ]
  },
  {
   "cell_type": "code",
   "execution_count": 41,
   "metadata": {
    "collapsed": true
   },
   "outputs": [],
   "source": [
    "df = df_train.append(df_test)"
   ]
  },
  {
   "cell_type": "markdown",
   "metadata": {},
   "source": [
    "Very helpful tool on pandas with get_dummy function from Issa Memari's recommondation."
   ]
  },
  {
   "cell_type": "markdown",
   "metadata": {
    "collapsed": true
   },
   "source": [
    "df_job = pd.get_dummies(df['job'])\n",
    "df_marital = pd.get_dummies(df['marital'])\n",
    "df_education = pd.get_dummies(df['education'])\n",
    "df_default = pd.get_dummies(df['default'])\n",
    "df_housing = pd.get_dummies(df['housing'])\n",
    "df_loan = pd.get_dummies(df['loan'])\n",
    "df_contact = pd.get_dummies(df['contact'])\n",
    "df_month = pd.get_dummies(df['month'])\n",
    "df_day_of_week = pd.get_dummies(df['day_of_week'])\n",
    "df_poutcome = pd.get_dummies(df['poutcome'])\n",
    "df_y = pd.get_dummies(df['y'])\n",
    "df = df.drop(['job','marital','education','default','housing','loan','contact','month','day_of_week','poutcome','y'], axis=1)"
   ]
  },
  {
   "cell_type": "code",
   "execution_count": 42,
   "metadata": {
    "collapsed": true
   },
   "outputs": [],
   "source": [
    "df['Job'] = ['jobknown' if x == 'unknown' else x for x in df['job']]"
   ]
  },
  {
   "cell_type": "code",
   "execution_count": 43,
   "metadata": {
    "collapsed": true
   },
   "outputs": [],
   "source": [
    "#df['Job'].unique()"
   ]
  },
  {
   "cell_type": "code",
   "execution_count": 44,
   "metadata": {},
   "outputs": [
    {
     "data": {
      "text/plain": [
       "array(['married', 'single', 'divorced', 'maryknown'], dtype=object)"
      ]
     },
     "execution_count": 44,
     "metadata": {},
     "output_type": "execute_result"
    }
   ],
   "source": [
    "df['Marital'] = ['maryknown' if x == 'unknown' else x for x in df['marital']]\n",
    "df['Marital'].unique()"
   ]
  },
  {
   "cell_type": "code",
   "execution_count": 45,
   "metadata": {},
   "outputs": [
    {
     "data": {
      "text/plain": [
       "array(['basic.9y', 'high.school', 'university.degree',\n",
       "       'professional.course', 'basic.6y', 'basic.4y', 'eduknown',\n",
       "       'illiterate'], dtype=object)"
      ]
     },
     "execution_count": 45,
     "metadata": {},
     "output_type": "execute_result"
    }
   ],
   "source": [
    "df['Edu'] = ['eduknown' if x == 'unknown' else x for x in df['education']]\n",
    "df['Edu'].unique()"
   ]
  },
  {
   "cell_type": "code",
   "execution_count": 46,
   "metadata": {
    "collapsed": true
   },
   "outputs": [],
   "source": [
    "#df['default'].unique()"
   ]
  },
  {
   "cell_type": "code",
   "execution_count": 47,
   "metadata": {
    "collapsed": true
   },
   "outputs": [],
   "source": [
    "df['Default']=df['default'].map({'no':'default_no','yes':'default_yes','unknown':'default_uk',}).astype(object)"
   ]
  },
  {
   "cell_type": "code",
   "execution_count": 48,
   "metadata": {
    "collapsed": true
   },
   "outputs": [],
   "source": [
    "#df['Default'].unique()"
   ]
  },
  {
   "cell_type": "code",
   "execution_count": 49,
   "metadata": {
    "collapsed": true
   },
   "outputs": [],
   "source": [
    "df['Housing']=df['housing'].map({'no':'housing_no','yes':'housing_yes','unknown':'housing_uk',}).astype(object)"
   ]
  },
  {
   "cell_type": "code",
   "execution_count": 50,
   "metadata": {
    "collapsed": true
   },
   "outputs": [],
   "source": [
    "#df['Housing'].unique()"
   ]
  },
  {
   "cell_type": "code",
   "execution_count": 51,
   "metadata": {
    "collapsed": true
   },
   "outputs": [],
   "source": [
    "df['Loan']=df['loan'].map({'no':'loan_no','yes':'loan_yes','unknown':'loan_uk',}).astype(object)"
   ]
  },
  {
   "cell_type": "code",
   "execution_count": 52,
   "metadata": {
    "collapsed": true
   },
   "outputs": [],
   "source": [
    "df = df.drop(['job','marital','education','default','housing','loan','pdays'], axis=1)\n",
    "#no pdays"
   ]
  },
  {
   "cell_type": "code",
   "execution_count": 53,
   "metadata": {},
   "outputs": [
    {
     "name": "stdout",
     "output_type": "stream",
     "text": [
      "<class 'pandas.core.frame.DataFrame'>\n",
      "Int64Index: 4119 entries, 0 to 1119\n",
      "Data columns (total 20 columns):\n",
      "age               4119 non-null int64\n",
      "campaign          4119 non-null int64\n",
      "cons.conf.idx     4119 non-null float64\n",
      "cons.price.idx    4119 non-null float64\n",
      "contact           4119 non-null object\n",
      "day_of_week       4119 non-null object\n",
      "duration          4119 non-null int64\n",
      "emp.var.rate      4119 non-null float64\n",
      "euribor3m         4119 non-null float64\n",
      "month             4119 non-null object\n",
      "nr.employed       4119 non-null float64\n",
      "poutcome          4119 non-null object\n",
      "previous          4119 non-null int64\n",
      "y                 2999 non-null object\n",
      "Job               4119 non-null object\n",
      "Marital           4119 non-null object\n",
      "Edu               4119 non-null object\n",
      "Default           4119 non-null object\n",
      "Housing           4119 non-null object\n",
      "Loan              4119 non-null object\n",
      "dtypes: float64(5), int64(4), object(11)\n",
      "memory usage: 675.8+ KB\n"
     ]
    }
   ],
   "source": [
    "df.info()"
   ]
  },
  {
   "cell_type": "code",
   "execution_count": 54,
   "metadata": {
    "collapsed": true
   },
   "outputs": [],
   "source": [
    "df_contact = pd.get_dummies(df['contact'])\n",
    "df_month = pd.get_dummies(df['month'])\n",
    "#df_day_of_week = pd.get_dummies(df['day_of_week'])\n",
    "df_poutcome = pd.get_dummies(df['poutcome'])"
   ]
  },
  {
   "cell_type": "code",
   "execution_count": 55,
   "metadata": {
    "collapsed": true
   },
   "outputs": [],
   "source": [
    "df_job = pd.get_dummies(df['Job'])\n",
    "df_marital = pd.get_dummies(df['Marital'])\n",
    "df_education = pd.get_dummies(df['Edu'])\n",
    "df_default = pd.get_dummies(df['Default'])\n",
    "df_housing = pd.get_dummies(df['Housing'])\n",
    "df_loan = pd.get_dummies(df['Loan'])"
   ]
  },
  {
   "cell_type": "code",
   "execution_count": 56,
   "metadata": {
    "collapsed": true
   },
   "outputs": [],
   "source": [
    "df = df.drop(['Job','Marital','Edu','Default','Housing','Loan','contact','month','day_of_week','poutcome','cons.price.idx','nr.employed'], axis=1)\n",
    "#'cons.price.idx','nr.employed dropped"
   ]
  },
  {
   "cell_type": "markdown",
   "metadata": {},
   "source": [
    "from sklearn.ensemble import RandomForestClassifier\n",
    "\n",
    "model = RandomForestClassifier(n_estimators = 100)\n",
    "model = model.fit(train_data[0:,:1], train_data[0:,-1])\n",
    "\n",
    "#finish of training using random-forest"
   ]
  },
  {
   "cell_type": "code",
   "execution_count": 57,
   "metadata": {
    "collapsed": true
   },
   "outputs": [],
   "source": [
    "df_new = pd.concat([df, df_contact,df_poutcome,df_month,df_marital,df_job,df_education,df_default,df_housing,df_loan], axis=1)\n",
    "#df_day_of_week"
   ]
  },
  {
   "cell_type": "code",
   "execution_count": 58,
   "metadata": {
    "collapsed": true
   },
   "outputs": [],
   "source": [
    "df_new['Y'] = [0 if x == 'no' else 1 for x in df['y']]\n",
    "df_new = df_new.drop(['y'], axis=1)"
   ]
  },
  {
   "cell_type": "code",
   "execution_count": 59,
   "metadata": {},
   "outputs": [
    {
     "name": "stdout",
     "output_type": "stream",
     "text": [
      "<class 'pandas.core.frame.DataFrame'>\n",
      "Int64Index: 4119 entries, 0 to 1119\n",
      "Data columns (total 56 columns):\n",
      "age                    4119 non-null int64\n",
      "campaign               4119 non-null int64\n",
      "cons.conf.idx          4119 non-null float64\n",
      "duration               4119 non-null int64\n",
      "emp.var.rate           4119 non-null float64\n",
      "euribor3m              4119 non-null float64\n",
      "previous               4119 non-null int64\n",
      "cellular               4119 non-null uint8\n",
      "telephone              4119 non-null uint8\n",
      "failure                4119 non-null uint8\n",
      "nonexistent            4119 non-null uint8\n",
      "success                4119 non-null uint8\n",
      "apr                    4119 non-null uint8\n",
      "aug                    4119 non-null uint8\n",
      "dec                    4119 non-null uint8\n",
      "jul                    4119 non-null uint8\n",
      "jun                    4119 non-null uint8\n",
      "mar                    4119 non-null uint8\n",
      "may                    4119 non-null uint8\n",
      "nov                    4119 non-null uint8\n",
      "oct                    4119 non-null uint8\n",
      "sep                    4119 non-null uint8\n",
      "divorced               4119 non-null uint8\n",
      "married                4119 non-null uint8\n",
      "maryknown              4119 non-null uint8\n",
      "single                 4119 non-null uint8\n",
      "admin.                 4119 non-null uint8\n",
      "blue-collar            4119 non-null uint8\n",
      "entrepreneur           4119 non-null uint8\n",
      "housemaid              4119 non-null uint8\n",
      "jobknown               4119 non-null uint8\n",
      "management             4119 non-null uint8\n",
      "retired                4119 non-null uint8\n",
      "self-employed          4119 non-null uint8\n",
      "services               4119 non-null uint8\n",
      "student                4119 non-null uint8\n",
      "technician             4119 non-null uint8\n",
      "unemployed             4119 non-null uint8\n",
      "basic.4y               4119 non-null uint8\n",
      "basic.6y               4119 non-null uint8\n",
      "basic.9y               4119 non-null uint8\n",
      "eduknown               4119 non-null uint8\n",
      "high.school            4119 non-null uint8\n",
      "illiterate             4119 non-null uint8\n",
      "professional.course    4119 non-null uint8\n",
      "university.degree      4119 non-null uint8\n",
      "default_no             4119 non-null uint8\n",
      "default_uk             4119 non-null uint8\n",
      "default_yes            4119 non-null uint8\n",
      "housing_no             4119 non-null uint8\n",
      "housing_uk             4119 non-null uint8\n",
      "housing_yes            4119 non-null uint8\n",
      "loan_no                4119 non-null uint8\n",
      "loan_uk                4119 non-null uint8\n",
      "loan_yes               4119 non-null uint8\n",
      "Y                      4119 non-null int64\n",
      "dtypes: float64(3), int64(5), uint8(48)\n",
      "memory usage: 482.7 KB\n"
     ]
    }
   ],
   "source": [
    "df_new.info()"
   ]
  },
  {
   "cell_type": "code",
   "execution_count": 60,
   "metadata": {
    "collapsed": true
   },
   "outputs": [],
   "source": [
    "data=df_new.values\n",
    "inputX=data[:,:-1]"
   ]
  },
  {
   "cell_type": "code",
   "execution_count": 30,
   "metadata": {},
   "outputs": [
    {
     "name": "stdout",
     "output_type": "stream",
     "text": [
      "[  9.98186329e-01   1.63514549e-03   1.00923555e-04   1.02311937e-05\n",
      "   7.39355584e-06   6.53395177e-06   5.78689476e-06   4.85344492e-06\n",
      "   4.24408430e-06   4.21990808e-06   3.85466226e-06   3.47128054e-06\n",
      "   3.33445385e-06   2.33221744e-06   2.22184681e-06   2.00486232e-06\n",
      "   1.80805972e-06   1.74364736e-06   1.34035235e-06   1.27498884e-06]\n",
      "[  6.48742253e+04   1.06271538e+02   6.55923374e+00   6.64946760e-01\n",
      "   4.80522718e-01   4.24655245e-01   3.76102441e-01   3.15435576e-01\n",
      "   2.75831950e-01   2.74260686e-01   2.50522594e-01   2.25605811e-01\n",
      "   2.16713157e-01   1.51575708e-01   1.44402489e-01   1.30300212e-01\n",
      "   1.17509597e-01   1.13323303e-01   8.71123132e-02   8.28642019e-02]\n",
      "20\n"
     ]
    }
   ],
   "source": [
    "from sklearn.decomposition import PCA\n",
    "pca = PCA(n_components=20)\n",
    "newtrain=pca.fit(inputX)\n",
    "print(newtrain.explained_variance_ratio_)\n",
    "print(newtrain.explained_variance_)\n",
    "print (newtrain.n_components_)\n",
    "ninput_X=pca.transform(inputX)"
   ]
  },
  {
   "cell_type": "code",
   "execution_count": 37,
   "metadata": {},
   "outputs": [
    {
     "data": {
      "text/plain": [
       "array([[  2.30195099e+02,  -1.04896002e+01,  -3.92217527e-01,\n",
       "         -1.91836192e-01,  -6.79615383e-01,   5.13516547e-01],\n",
       "       [  8.92086087e+01,  -1.29479553e+00,   1.56840865e+00,\n",
       "         -8.81719729e-01,   7.47238130e-01,   7.60052417e-03]])"
      ]
     },
     "execution_count": 37,
     "metadata": {},
     "output_type": "execute_result"
    }
   ],
   "source": [
    "train_X = ninput_X[:2999,:6]\n",
    "test_X = ninput_X[2999:,:6]\n",
    "train_X[:2,:]"
   ]
  },
  {
   "cell_type": "code",
   "execution_count": 32,
   "metadata": {
    "collapsed": true
   },
   "outputs": [],
   "source": [
    "train_y=data[:2999,-1]"
   ]
  },
  {
   "cell_type": "code",
   "execution_count": 61,
   "metadata": {
    "collapsed": true
   },
   "outputs": [],
   "source": [
    "from sklearn.ensemble import RandomForestClassifier\n",
    "model = RandomForestClassifier(n_estimators =100) \n"
   ]
  },
  {
   "cell_type": "code",
   "execution_count": 62,
   "metadata": {
    "collapsed": true
   },
   "outputs": [],
   "source": [
    "train_X = inputX[:2999,:-1]\n",
    "train_y = data[:2999,-1]\n",
    "test_X = inputX[2999:,:-1]"
   ]
  },
  {
   "cell_type": "code",
   "execution_count": 63,
   "metadata": {
    "collapsed": true
   },
   "outputs": [],
   "source": [
    "model = model.fit(train_X, train_y)"
   ]
  },
  {
   "cell_type": "code",
   "execution_count": 65,
   "metadata": {
    "collapsed": true
   },
   "outputs": [],
   "source": [
    "output = model.predict(test_X)"
   ]
  },
  {
   "cell_type": "code",
   "execution_count": 66,
   "metadata": {
    "collapsed": true
   },
   "outputs": [],
   "source": [
    "result = np.c_[output.astype(int)]\n",
    "df_result = pd.DataFrame(result[:,:], columns=['prediction'])"
   ]
  },
  {
   "cell_type": "code",
   "execution_count": 67,
   "metadata": {
    "collapsed": true
   },
   "outputs": [],
   "source": [
    "#df_result.head(10)\n",
    "df_result.to_csv('data/result11_12best.csv', index=False)"
   ]
  },
  {
   "cell_type": "code",
   "execution_count": 64,
   "metadata": {},
   "outputs": [
    {
     "data": {
      "text/plain": [
       "array([ 0.91181364,  0.905     ,  0.90833333,  0.9081803 ,  0.89816361])"
      ]
     },
     "execution_count": 64,
     "metadata": {},
     "output_type": "execute_result"
    }
   ],
   "source": [
    "from sklearn.model_selection import cross_val_score#cross-validation\n",
    "scores = cross_val_score(model, train_X, train_y, cv=5)#check for rfl classifier\n",
    "scores"
   ]
  },
  {
   "cell_type": "code",
   "execution_count": null,
   "metadata": {
    "collapsed": true
   },
   "outputs": [],
   "source": []
  }
 ],
 "metadata": {
  "kernelspec": {
   "display_name": "Python 3",
   "language": "python",
   "name": "python3"
  },
  "language_info": {
   "codemirror_mode": {
    "name": "ipython",
    "version": 3
   },
   "file_extension": ".py",
   "mimetype": "text/x-python",
   "name": "python",
   "nbconvert_exporter": "python",
   "pygments_lexer": "ipython3",
   "version": "3.6.2"
  }
 },
 "nbformat": 4,
 "nbformat_minor": 2
}
