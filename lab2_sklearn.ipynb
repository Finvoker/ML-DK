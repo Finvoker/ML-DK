{
 "cells": [
  {
   "cell_type": "code",
   "execution_count": 1,
   "metadata": {
    "collapsed": true
   },
   "outputs": [],
   "source": [
    "import numpy as np\n",
    "from sklearn import datasets"
   ]
  },
  {
   "cell_type": "code",
   "execution_count": 3,
   "metadata": {
    "collapsed": false
   },
   "outputs": [
    {
     "data": {
      "text/plain": [
       "array([0, 1, 2])"
      ]
     },
     "execution_count": 3,
     "metadata": {},
     "output_type": "execute_result"
    }
   ],
   "source": [
    "iris = datasets.load_iris()\n",
    "iris_X = iris.data\n",
    "iris_y = iris.target\n",
    "np.unique(iris_y)"
   ]
  },
  {
   "cell_type": "code",
   "execution_count": 44,
   "metadata": {
    "collapsed": false
   },
   "outputs": [
    {
     "data": {
      "text/plain": [
       "KNeighborsClassifier(algorithm='auto', leaf_size=30, metric='minkowski',\n",
       "           metric_params=None, n_jobs=1, n_neighbors=99, p=2,\n",
       "           weights='uniform')"
      ]
     },
     "execution_count": 44,
     "metadata": {},
     "output_type": "execute_result"
    }
   ],
   "source": [
    "### Create and fit a k-nearest-neighbor classifier\n",
    "from sklearn.neighbors import KNeighborsClassifier\n",
    "from sklearn.metrics import accuracy_score\n",
    "knn.fit(iris_X_train,iris_y_train)"
   ]
  },
  {
   "cell_type": "code",
   "execution_count": 45,
   "metadata": {
    "collapsed": true
   },
   "outputs": [],
   "source": [
    "### Split iris data in train and test sets\n",
    "### A random permutation, to split the data randomly\n",
    "np.random.seed(0)\n",
    "indices = np.random.permutation(len(iris_X))\n",
    "iris_X_train = iris_X[indices[:-10]]\n",
    "iris_y_train = iris_y[indices[:-10]]\n",
    "iris_X_test = iris_X[indices[-10:]]\n",
    "iris_y_test = iris_y[indices[-10:]]"
   ]
  },
  {
   "cell_type": "code",
   "execution_count": 48,
   "metadata": {
    "collapsed": false
   },
   "outputs": [
    {
     "name": "stdout",
     "output_type": "stream",
     "text": [
      "lost=10.0 %\n",
      "lost=10.0 %\n",
      "lost=10.0 %\n",
      "lost=10.0 %\n",
      "lost=10.0 %\n",
      "lost=10.0 %\n",
      "lost=10.0 %\n",
      "lost=0.0 %\n",
      "lost=0.0 %\n",
      "lost=0.0 %\n",
      "lost=10.0 %\n",
      "lost=10.0 %\n",
      "lost=10.0 %\n",
      "lost=10.0 %\n",
      "lost=10.0 %\n",
      "lost=10.0 %\n",
      "lost=10.0 %\n",
      "lost=0.0 %\n",
      "lost=0.0 %\n",
      "lost=0.0 %\n",
      "lost=0.0 %\n",
      "lost=0.0 %\n",
      "lost=0.0 %\n",
      "lost=0.0 %\n",
      "lost=0.0 %\n",
      "lost=0.0 %\n",
      "lost=10.0 %\n",
      "lost=0.0 %\n",
      "lost=10.0 %\n",
      "lost=10.0 %\n",
      "lost=10.0 %\n",
      "lost=10.0 %\n",
      "lost=10.0 %\n",
      "lost=0.0 %\n",
      "lost=0.0 %\n",
      "lost=0.0 %\n",
      "lost=10.0 %\n",
      "lost=10.0 %\n",
      "lost=10.0 %\n",
      "lost=0.0 %\n",
      "lost=0.0 %\n",
      "lost=0.0 %\n",
      "lost=0.0 %\n",
      "lost=0.0 %\n",
      "lost=0.0 %\n",
      "lost=0.0 %\n",
      "lost=0.0 %\n",
      "lost=0.0 %\n",
      "lost=0.0 %\n",
      "lost=0.0 %\n",
      "lost=0.0 %\n",
      "lost=0.0 %\n",
      "lost=0.0 %\n",
      "lost=0.0 %\n",
      "lost=0.0 %\n",
      "lost=0.0 %\n",
      "lost=0.0 %\n",
      "lost=0.0 %\n",
      "lost=0.0 %\n",
      "lost=0.0 %\n",
      "lost=0.0 %\n",
      "lost=0.0 %\n",
      "lost=0.0 %\n",
      "lost=0.0 %\n",
      "lost=0.0 %\n",
      "lost=0.0 %\n",
      "lost=0.0 %\n",
      "lost=0.0 %\n",
      "lost=0.0 %\n",
      "lost=0.0 %\n",
      "lost=0.0 %\n",
      "lost=0.0 %\n",
      "lost=10.0 %\n",
      "lost=10.0 %\n",
      "lost=10.0 %\n",
      "lost=0.0 %\n",
      "lost=0.0 %\n",
      "lost=0.0 %\n",
      "lost=10.0 %\n",
      "lost=0.0 %\n",
      "lost=0.0 %\n",
      "lost=0.0 %\n",
      "lost=0.0 %\n",
      "lost=0.0 %\n",
      "lost=10.0 %\n",
      "lost=10.0 %\n",
      "lost=10.0 %\n",
      "lost=10.0 %\n",
      "lost=10.0 %\n",
      "lost=0.0 %\n",
      "lost=0.0 %\n",
      "lost=0.0 %\n",
      "lost=20.0 %\n",
      "lost=20.0 %\n",
      "lost=20.0 %\n",
      "lost=20.0 %\n",
      "lost=20.0 %\n",
      "lost=20.0 %\n",
      "lost=20.0 %\n",
      "the best k chosen is 8\n",
      "the best accuracy is 100.0 %\n"
     ]
    }
   ],
   "source": [
    "best_k=0\n",
    "k=1\n",
    "accmax=0\n",
    "while k<100 :\n",
    "    \n",
    "    knn = KNeighborsClassifier(p=1,n_neighbors=k)\n",
    "    knn.fit(iris_X_train, iris_y_train)\n",
    "    acctemp=accuracy_score(iris_y_test, knn.predict(iris_X_test))\n",
    "    print(\"lost=\" + str(100-acctemp*100)+\" %\")\n",
    "    if acctemp > accmax :\n",
    "        accmax=acctemp\n",
    "        best_k=k\n",
    "    k=k+1\n",
    "    \n",
    "print(\"the best k chosen is \"+str(best_k))\n",
    "print(\"the best accuracy is \"+str(accmax*100)+\" %\")"
   ]
  },
  {
   "cell_type": "code",
   "execution_count": null,
   "metadata": {
    "collapsed": true
   },
   "outputs": [],
   "source": []
  },
  {
   "cell_type": "code",
   "execution_count": null,
   "metadata": {
    "collapsed": true
   },
   "outputs": [],
   "source": []
  }
 ],
 "metadata": {
  "kernelspec": {
   "display_name": "Python 2",
   "language": "python",
   "name": "python2"
  },
  "language_info": {
   "codemirror_mode": {
    "name": "ipython",
    "version": 2
   },
   "file_extension": ".py",
   "mimetype": "text/x-python",
   "name": "python",
   "nbconvert_exporter": "python",
   "pygments_lexer": "ipython2",
   "version": "2.7.13"
  }
 },
 "nbformat": 4,
 "nbformat_minor": 2
}
