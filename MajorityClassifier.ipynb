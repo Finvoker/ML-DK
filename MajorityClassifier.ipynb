{
 "cells": [
  {
   "cell_type": "code",
   "execution_count": 3,
   "metadata": {},
   "outputs": [
    {
     "data": {
      "text/plain": [
       "array([0, 1])"
      ]
     },
     "execution_count": 3,
     "metadata": {},
     "output_type": "execute_result"
    }
   ],
   "source": [
    "import numpy as np\n",
    "from sklearn import datasets\n",
    "\n",
    "# load and parse the data of breast canser dataset from sklearn\n",
    "cancer = datasets.load_breast_cancer()\n",
    "data_X = cancer.data\n",
    "data_y = cancer.target\n",
    "np.unique(data_y)"
   ]
  },
  {
   "cell_type": "code",
   "execution_count": 4,
   "metadata": {
    "collapsed": true
   },
   "outputs": [],
   "source": [
    "# split the data into training and test sets\n",
    "# a random permutation, to split the data randomly\n",
    "a = np.random.seed(0)\n",
    "indices = np.random.permutation(len(data_X))\n",
    "\n",
    "X_train = data_X[indices[:-200]]\n",
    "y_train = data_y[indices[:-200]]\n",
    "X_test = data_X[indices[-200:]]\n",
    "y_test = data_y[indices[-200:]]"
   ]
  },
  {
   "cell_type": "code",
   "execution_count": 11,
   "metadata": {
    "collapsed": true
   },
   "outputs": [],
   "source": [
    "#create my classifier NaiveC inherit from BaseEstimator which used for cross valitation later\n",
    "from sklearn.base import BaseEstimator, ClassifierMixin\n",
    "class NaiveC(BaseEstimator, ClassifierMixin):\n",
    "    \n",
    "    def __init__ (self,mode='Naive'):\n",
    "        self.mode = mode\n",
    "        \n",
    "    def fit(self,X,y):\n",
    "        count_res1 = 0\n",
    "        count_res2 = 0\n",
    "        res1 = y[0]\n",
    "        res2 = y[0]\n",
    "        for i in y:\n",
    "            if (i == res1):\n",
    "                count_res1 = count_res1 + 1\n",
    "            else:\n",
    "                count_res2 = count_res2 + 1\n",
    "                res2 = i\n",
    "        if(count_res1 > count_res2):\n",
    "            self.result = res1\n",
    "        else:\n",
    "            self.result = res2\n",
    "    \n",
    "    def predict(self,X):\n",
    "        res = []\n",
    "        for i in range (len(X)):\n",
    "            res.append(self.result)\n",
    "        return res\n",
    "##main part of definition of my naive version binary classification"
   ]
  },
  {
   "cell_type": "code",
   "execution_count": 10,
   "metadata": {},
   "outputs": [
    {
     "data": {
      "text/plain": [
       "0.60499999999999998"
      ]
     },
     "execution_count": 10,
     "metadata": {},
     "output_type": "execute_result"
    }
   ],
   "source": [
    "clf = NaiveC()\n",
    "\n",
    "from sklearn.metrics import accuracy_score\n",
    "clf.fit(X_train,y_train)\n",
    "\n",
    "accuracy_score(y_test,clf.predict(X_test))\n",
    "\n",
    "#training part and test with acc_score"
   ]
  },
  {
   "cell_type": "code",
   "execution_count": 16,
   "metadata": {},
   "outputs": [
    {
     "data": {
      "text/plain": [
       "array([ 0.62068966,  0.62068966,  0.63157895,  0.63157895,  0.63157895,\n",
       "        0.63157895,  0.63157895,  0.625     ,  0.625     ,  0.625     ])"
      ]
     },
     "execution_count": 16,
     "metadata": {},
     "output_type": "execute_result"
    }
   ],
   "source": [
    "from sklearn.model_selection import cross_val_score\n",
    "score = cross_val_score(clf, cancer.data, cancer.target, cv=10)\n",
    "score"
   ]
  },
  {
   "cell_type": "code",
   "execution_count": null,
   "metadata": {
    "collapsed": true
   },
   "outputs": [],
   "source": []
  }
 ],
 "metadata": {
  "celltoolbar": "Raw Cell Format",
  "kernelspec": {
   "display_name": "Python 3",
   "language": "python",
   "name": "python3"
  },
  "language_info": {
   "codemirror_mode": {
    "name": "ipython",
    "version": 3
   },
   "file_extension": ".py",
   "mimetype": "text/x-python",
   "name": "python",
   "nbconvert_exporter": "python",
   "pygments_lexer": "ipython3",
   "version": "3.6.2"
  }
 },
 "nbformat": 4,
 "nbformat_minor": 2
}
